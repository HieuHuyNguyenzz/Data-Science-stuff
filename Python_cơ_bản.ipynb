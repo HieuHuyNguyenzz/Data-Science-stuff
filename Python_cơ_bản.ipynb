{
  "nbformat": 4,
  "nbformat_minor": 0,
  "metadata": {
    "colab": {
      "provenance": [],
      "authorship_tag": "ABX9TyNIHzQPZe9QEX5m8NA1UoNV",
      "include_colab_link": true
    },
    "kernelspec": {
      "name": "python3",
      "display_name": "Python 3"
    },
    "language_info": {
      "name": "python"
    }
  },
  "cells": [
    {
      "cell_type": "markdown",
      "metadata": {
        "id": "view-in-github",
        "colab_type": "text"
      },
      "source": [
        "<a href=\"https://colab.research.google.com/github/HieuHuyNguyenzz/Data-Science-stuff/blob/main/Python_c%C6%A1_b%E1%BA%A3n.ipynb\" target=\"_parent\"><img src=\"https://colab.research.google.com/assets/colab-badge.svg\" alt=\"Open In Colab\"/></a>"
      ]
    },
    {
      "cell_type": "markdown",
      "source": [
        "# 1. Python cơ bản (Python Basics)\n"
      ],
      "metadata": {
        "id": "OuiOf36I25-k"
      }
    },
    {
      "cell_type": "markdown",
      "source": [
        "Cú pháp của Python rất đơn giản vì nó giống với tiếng anh cơ bản."
      ],
      "metadata": {
        "id": "wRWP3GQ73Y4x"
      }
    },
    {
      "cell_type": "code",
      "execution_count": 1,
      "metadata": {
        "colab": {
          "base_uri": "https://localhost:8080/"
        },
        "id": "7C4La52z22Qh",
        "outputId": "5058611f-83db-483b-d701-9b08ab53e1f0"
      },
      "outputs": [
        {
          "output_type": "stream",
          "name": "stdout",
          "text": [
            "Hello, World!\n"
          ]
        }
      ],
      "source": [
        "print(\"Hello, World!\")"
      ]
    },
    {
      "cell_type": "markdown",
      "source": [
        "Khác với các ngôn ngữ thông thường như C, C++, Java, Python không sử dụng các dấu ; hay các cặp {} để ngăn cách các câu lệnh hay các khối lệnh với nhau. Thay vào đó nó phân biệt các câu lệnh thông qua các dòng và các khoảng trắng trước câu lệnh. Với các khối lệnh thường sử dụng : và các câu lệnh trong khối lệnh sẽ được thụt vào như dưới đây."
      ],
      "metadata": {
        "id": "foE1gU9c4Iuq"
      }
    },
    {
      "cell_type": "code",
      "source": [
        "if 5 > 2:\n",
        "  print(\"5 lớn hơn 2\")"
      ],
      "metadata": {
        "colab": {
          "base_uri": "https://localhost:8080/"
        },
        "id": "pd1aigm93y0o",
        "outputId": "0d9293a2-c796-4dbd-8fed-113d0ef3f3d8"
      },
      "execution_count": 5,
      "outputs": [
        {
          "output_type": "stream",
          "name": "stdout",
          "text": [
            "5 lớn hơn 2\n"
          ]
        }
      ]
    },
    {
      "cell_type": "markdown",
      "source": [
        "Như thế này là sai:"
      ],
      "metadata": {
        "id": "YCxMI8y5-x43"
      }
    },
    {
      "cell_type": "code",
      "source": [
        "if 5 > 2:\n",
        "print(\"Five is greater than two!\")"
      ],
      "metadata": {
        "id": "77VIsCPj8R33"
      },
      "execution_count": null,
      "outputs": []
    },
    {
      "cell_type": "markdown",
      "source": [
        "### Sử dụng comment"
      ],
      "metadata": {
        "id": "sUovJ15m-9HF"
      }
    },
    {
      "cell_type": "code",
      "source": [
        "# Đây là comment trên 1 dòng\n",
        "\n",
        "\"\"\"\n",
        "Đây là\n",
        "comment trên\n",
        "nhiều dòng.\n",
        "\"\"\""
      ],
      "metadata": {
        "id": "sbMHLWXO-0JU"
      },
      "execution_count": null,
      "outputs": []
    },
    {
      "cell_type": "markdown",
      "source": [
        "# 2. Biến (Variables)\n",
        "Biến là các container để lưu trữ các giá trị dữ liệu.\n",
        "Python không yêu cầu định nghĩa kiểu dữ liệu trước khi khai báo biến, thay vào đó một biến trong python sẽ được tạo ngay khi gán giá trị cho nó. Ví dụ\n",
        "\n"
      ],
      "metadata": {
        "id": "wSjevgd__sWy"
      }
    },
    {
      "cell_type": "code",
      "source": [
        "x = 5\n",
        "y = \"Hihi\""
      ],
      "metadata": {
        "id": "B92ZPJSD_zns"
      },
      "execution_count": 8,
      "outputs": []
    },
    {
      "cell_type": "code",
      "source": [
        "# python có thể gán nhiều biến như sau\n",
        "x, y, z = \"Orange\", \"Banana\", \"Cherry\"\n",
        "\n",
        "# Hoặc là\n",
        "x = y = z = \"Orange\""
      ],
      "metadata": {
        "id": "ZF4K09d7GwbC"
      },
      "execution_count": 12,
      "outputs": []
    },
    {
      "cell_type": "code",
      "source": [
        "# Hàm type() trả về kiểu dữ liệu của biến\n",
        "print(type(x))\n",
        "print(type(y))"
      ],
      "metadata": {
        "colab": {
          "base_uri": "https://localhost:8080/"
        },
        "id": "YY-fWtytDW11",
        "outputId": "92e6e3ce-cecf-4268-aaea-e645a86821e0"
      },
      "execution_count": 11,
      "outputs": [
        {
          "output_type": "stream",
          "name": "stdout",
          "text": [
            "<class 'str'>\n",
            "<class 'str'>\n"
          ]
        }
      ]
    },
    {
      "cell_type": "markdown",
      "source": [
        "Gán các giá trị trong một danh sách cho các biến:"
      ],
      "metadata": {
        "id": "OfysQbcOHC0i"
      }
    },
    {
      "cell_type": "code",
      "source": [
        "fruits = [\"apple\", \"banana\", \"cherry\"]\n",
        "x, y, z = fruits"
      ],
      "metadata": {
        "id": "h1megZVvDg3z"
      },
      "execution_count": 13,
      "outputs": []
    },
    {
      "cell_type": "markdown",
      "source": [
        "### Biến toàn cục (Global variable)"
      ],
      "metadata": {
        "id": "MxeH2oQrJaZh"
      }
    },
    {
      "cell_type": "code",
      "source": [
        "x = \"awesome\"\n",
        "\n",
        "def myfunc():\n",
        "  x = \"fantastic\"\n",
        "  print(\"Python is \" + x)\n",
        "\n",
        "myfunc()\n",
        "\n",
        "print(\"Python is \" + x)"
      ],
      "metadata": {
        "colab": {
          "base_uri": "https://localhost:8080/"
        },
        "id": "ItGkt1rlHVbh",
        "outputId": "ab659736-42e5-4a7d-ce15-75e05fbe700a"
      },
      "execution_count": 14,
      "outputs": [
        {
          "output_type": "stream",
          "name": "stdout",
          "text": [
            "Python is fantastic\n",
            "Python is awesome\n"
          ]
        }
      ]
    },
    {
      "cell_type": "code",
      "source": [
        "x = \"awesome\"\n",
        "\n",
        "def myfunc():\n",
        "  global x\n",
        "  x = \"fantastic\"\n",
        "\n",
        "myfunc()\n",
        "\n",
        "print(\"Python is \" + x)"
      ],
      "metadata": {
        "colab": {
          "base_uri": "https://localhost:8080/"
        },
        "id": "xnGe4d9UOi78",
        "outputId": "cd549b0e-e7f9-4c8d-aa4c-30ab47e6df61"
      },
      "execution_count": 16,
      "outputs": [
        {
          "output_type": "stream",
          "name": "stdout",
          "text": [
            "Python is fantastic\n"
          ]
        }
      ]
    },
    {
      "cell_type": "markdown",
      "source": [
        "### Kiểu dữ liệu (Data types)\n",
        "Các kiểu dữ liệu trong python:\n",
        "- Kiểu văn bản:\tstr\n",
        "- Kiểu số học:\tint, float, complex\n",
        "- Kiểu tuần tự:\tlist, tuple, range\n",
        "- Kiểu ánh xạ:\tdict\n",
        "- Kiểu tập:\tset, frozenset\n",
        "- Boolean Type:\tbool\n",
        "- Kiểu nhị phân:\tbytes, bytearray, memoryview\n",
        "- None Type:\tNoneType"
      ],
      "metadata": {
        "id": "jOR9tiwmOwYh"
      }
    },
    {
      "cell_type": "code",
      "source": [
        "# Xâu\n",
        "x = \"Hello World\"\n",
        "type(x)"
      ],
      "metadata": {
        "colab": {
          "base_uri": "https://localhost:8080/"
        },
        "id": "mhwKzcD2OkWU",
        "outputId": "d3747b43-6eba-4135-825f-a3cb8930254f"
      },
      "execution_count": 18,
      "outputs": [
        {
          "output_type": "execute_result",
          "data": {
            "text/plain": [
              "str"
            ]
          },
          "metadata": {},
          "execution_count": 18
        }
      ]
    },
    {
      "cell_type": "code",
      "source": [
        "# Số nguyên\n",
        "x = 20\n",
        "type(x)"
      ],
      "metadata": {
        "colab": {
          "base_uri": "https://localhost:8080/"
        },
        "id": "M47Q-FZCPR6a",
        "outputId": "1d964407-2796-4dd4-eee6-4f96cdf9f85b"
      },
      "execution_count": 19,
      "outputs": [
        {
          "output_type": "execute_result",
          "data": {
            "text/plain": [
              "int"
            ]
          },
          "metadata": {},
          "execution_count": 19
        }
      ]
    },
    {
      "cell_type": "code",
      "source": [
        "# Số thập phân\n",
        "x = 20.5\n",
        "type(x)"
      ],
      "metadata": {
        "colab": {
          "base_uri": "https://localhost:8080/"
        },
        "id": "iv4_KK5sPzj7",
        "outputId": "61f3ca3c-72b0-4428-cf87-3f09801cce75"
      },
      "execution_count": 20,
      "outputs": [
        {
          "output_type": "execute_result",
          "data": {
            "text/plain": [
              "float"
            ]
          },
          "metadata": {},
          "execution_count": 20
        }
      ]
    },
    {
      "cell_type": "code",
      "source": [
        "# Số ảo\n",
        "x = 1j\n",
        "type(x)"
      ],
      "metadata": {
        "colab": {
          "base_uri": "https://localhost:8080/"
        },
        "id": "9PGPnww4Rh9m",
        "outputId": "4170f1b6-4fb3-46a5-ce06-4b009608c292"
      },
      "execution_count": 21,
      "outputs": [
        {
          "output_type": "execute_result",
          "data": {
            "text/plain": [
              "complex"
            ]
          },
          "metadata": {},
          "execution_count": 21
        }
      ]
    },
    {
      "cell_type": "code",
      "source": [
        "# Danh sách động\n",
        "x = [\"apple\", \"banana\", \"cherry\"]\n",
        "type(x)"
      ],
      "metadata": {
        "colab": {
          "base_uri": "https://localhost:8080/"
        },
        "id": "6LL0UgK3RnnR",
        "outputId": "58e3c7da-5051-4504-cdef-867add606a6d"
      },
      "execution_count": 22,
      "outputs": [
        {
          "output_type": "execute_result",
          "data": {
            "text/plain": [
              "list"
            ]
          },
          "metadata": {},
          "execution_count": 22
        }
      ]
    },
    {
      "cell_type": "code",
      "source": [
        "# Danh sách cố định\n",
        "x = (\"apple\", \"banana\", \"cherry\")\n",
        "type(x)"
      ],
      "metadata": {
        "colab": {
          "base_uri": "https://localhost:8080/"
        },
        "id": "QFgl9H6MRs03",
        "outputId": "24fab44e-70e2-483a-f1f3-bac6b58d88d6"
      },
      "execution_count": 23,
      "outputs": [
        {
          "output_type": "execute_result",
          "data": {
            "text/plain": [
              "tuple"
            ]
          },
          "metadata": {},
          "execution_count": 23
        }
      ]
    },
    {
      "cell_type": "code",
      "source": [
        "# Ánh xạ\n",
        "x = {\"name\" : \"John\", \"age\" : 36}\n",
        "type(x)"
      ],
      "metadata": {
        "colab": {
          "base_uri": "https://localhost:8080/"
        },
        "id": "PD4lqGtYSmlp",
        "outputId": "a9fffcac-2daa-4615-8549-2e0980aea4de"
      },
      "execution_count": 24,
      "outputs": [
        {
          "output_type": "execute_result",
          "data": {
            "text/plain": [
              "dict"
            ]
          },
          "metadata": {},
          "execution_count": 24
        }
      ]
    },
    {
      "cell_type": "code",
      "source": [
        "# Tập\n",
        "x = {\"apple\", \"banana\", \"cherry\"}\n",
        "type(x)"
      ],
      "metadata": {
        "colab": {
          "base_uri": "https://localhost:8080/"
        },
        "id": "R9C0IBuUStS9",
        "outputId": "aa94b8be-5946-4630-dd03-ba0a87ff0d6b"
      },
      "execution_count": 25,
      "outputs": [
        {
          "output_type": "execute_result",
          "data": {
            "text/plain": [
              "set"
            ]
          },
          "metadata": {},
          "execution_count": 25
        }
      ]
    },
    {
      "cell_type": "code",
      "source": [
        "# Boolean\n",
        "x = True\n",
        "type(x)"
      ],
      "metadata": {
        "colab": {
          "base_uri": "https://localhost:8080/"
        },
        "id": "y_W-MAJIUAb5",
        "outputId": "1ae46cb7-ef03-43a9-cda4-c1cd92f10ad4"
      },
      "execution_count": 26,
      "outputs": [
        {
          "output_type": "execute_result",
          "data": {
            "text/plain": [
              "bool"
            ]
          },
          "metadata": {},
          "execution_count": 26
        }
      ]
    },
    {
      "cell_type": "code",
      "source": [
        "# None type\n",
        "x = None\n",
        "type(x)"
      ],
      "metadata": {
        "colab": {
          "base_uri": "https://localhost:8080/"
        },
        "id": "PIHhZG3cUE1N",
        "outputId": "79a81d88-b81d-439b-cc33-fab1bfa25687"
      },
      "execution_count": 27,
      "outputs": [
        {
          "output_type": "execute_result",
          "data": {
            "text/plain": [
              "NoneType"
            ]
          },
          "metadata": {},
          "execution_count": 27
        }
      ]
    }
  ]
}